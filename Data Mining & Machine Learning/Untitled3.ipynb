{
 "cells": [
  {
   "cell_type": "code",
   "execution_count": 77,
   "id": "0a90bc9d",
   "metadata": {},
   "outputs": [
    {
     "name": "stdout",
     "output_type": "stream",
     "text": [
      "(284807, 31)\n",
      "Column Name, DataTypes, MissingValues in Loan 20K CSV\n",
      "\n",
      "Time , float64 , False\n",
      "V1 , float64 , False\n",
      "V2 , float64 , False\n",
      "V3 , float64 , False\n",
      "V4 , float64 , False\n",
      "V5 , float64 , False\n",
      "V6 , float64 , False\n",
      "V7 , float64 , False\n",
      "V8 , float64 , False\n",
      "V9 , float64 , False\n",
      "V10 , float64 , False\n",
      "V11 , float64 , False\n",
      "V12 , float64 , False\n",
      "V13 , float64 , False\n",
      "V14 , float64 , False\n",
      "V15 , float64 , False\n",
      "V16 , float64 , False\n",
      "V17 , float64 , False\n",
      "V18 , float64 , False\n",
      "V19 , float64 , False\n",
      "V20 , float64 , False\n",
      "V21 , float64 , False\n",
      "V22 , float64 , False\n",
      "V23 , float64 , False\n",
      "V24 , float64 , False\n",
      "V25 , float64 , False\n",
      "V26 , float64 , False\n",
      "V27 , float64 , False\n",
      "V28 , float64 , False\n",
      "Amount , float64 , False\n",
      "Class , int64 , False\n"
     ]
    }
   ],
   "source": [
    "import pandas as pd\n",
    "import numpy as np\n",
    "from sklearn import preprocessing\n",
    "from IPython.display import display, HTML\n",
    "import matplotlib.pyplot as plt\n",
    "\n",
    "df_creditcard=pd.read_csv('creditcard.csv', header=0)\n",
    "\n",
    "print(df_creditcard.shape)\n",
    "\n",
    "cols_creditcard = df_creditcard.columns\n",
    "\n",
    "print('Column Name, DataTypes, MissingValues in Loan 20K CSV\\n')\n",
    "for i in cols_creditcard:\n",
    "    print(i,',', df_creditcard[i].dtype , ',', df_creditcard[i].isnull().any())"
   ]
  },
  {
   "cell_type": "code",
   "execution_count": 83,
   "id": "9de6832d",
   "metadata": {},
   "outputs": [
    {
     "data": {
      "text/plain": [
       "<matplotlib.legend.Legend at 0x21bf133e670>"
      ]
     },
     "execution_count": 83,
     "metadata": {},
     "output_type": "execute_result"
    },
    {
     "data": {
      "image/png": "[encoded data removed]",
      "text/plain": [
       "<Figure size 432x288 with 1 Axes>"
      ]
     },
     "metadata": {
      "needs_background": "light"
     },
     "output_type": "display_data"
    }
   ],
   "source": [
    "counts, bins = np.histogram(df_creditcard['Class'])\n",
    "plt.hist(bins[:-1], bins, weights=counts)\n",
    "plt.legend(counts)\n",
    "\n"
   ]
  },
  {
   "cell_type": "code",
   "execution_count": null,
   "id": "555a12c6",
   "metadata": {},
   "outputs": [],
   "source": []
  },
  {
   "cell_type": "code",
   "execution_count": 85,
   "id": "9bc5b11d",
   "metadata": {},
   "outputs": [
    {
     "data": {
      "text/plain": [
       "array([<AxesSubplot:title={'center':'0'}>,\n",
       "       <AxesSubplot:title={'center':'1'}>], dtype=object)"
      ]
     },
     "execution_count": 85,
     "metadata": {},
     "output_type": "execute_result"
    },
    {
     "data": {
      "image/png": "[encoded data removed]",
      "text/plain": [
       "<Figure size 432x288 with 2 Axes>"
      ]
     },
     "metadata": {
      "needs_background": "light"
     },
     "output_type": "display_data"
    }
   ],
   "source": [
    "df_creditcard.hist(column='Class', by=df_creditcard['Class'], grid=True, legend=True)\n",
    "\n"
   ]
  },
  {
   "cell_type": "code",
   "execution_count": null,
   "id": "7150708d",
   "metadata": {},
   "outputs": [],
   "source": []
  },
  {
   "cell_type": "code",
   "execution_count": null,
   "id": "d64863ad",
   "metadata": {},
   "outputs": [],
   "source": []
  }
 ],
 "metadata": {
  "kernelspec": {
   "display_name": "Python 3 (ipykernel)",
   "language": "python",
   "name": "python3"
  },
  "language_info": {
   "codemirror_mode": {
    "name": "ipython",
    "version": 3
   },
   "file_extension": ".py",
   "mimetype": "text/x-python",
   "name": "python",
   "nbconvert_exporter": "python",
   "pygments_lexer": "ipython3",
   "version": "3.8.12"
  }
 },
 "nbformat": 4,
 "nbformat_minor": 5
}
