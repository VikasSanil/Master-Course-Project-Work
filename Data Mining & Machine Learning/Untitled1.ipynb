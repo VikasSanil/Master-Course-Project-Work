{
 "cells": [
  {
   "cell_type": "code",
   "execution_count": null,
   "id": "ad8813e9",
   "metadata": {},
   "outputs": [],
   "source": [
    "# Table of Contents\n",
    "\n"
   ]
  },
  {
   "cell_type": "code",
   "execution_count": 4,
   "id": "592e79cf",
   "metadata": {},
   "outputs": [
    {
     "name": "stdout",
     "output_type": "stream",
     "text": [
      "Loan Status , object , False\n",
      "Current Loan Amount , int64 , False\n",
      "Term , object , False\n",
      "Credit Score , float64 , True\n",
      "Annual Income , float64 , True\n",
      "Years in current job , object , True\n",
      "Home Ownership , object , False\n",
      "Purpose , object , False\n",
      "Monthly Debt , float64 , False\n",
      "Years of Credit History , float64 , False\n",
      "Months since last delinquent , float64 , True\n",
      "Number of Open Accounts , int64 , False\n",
      "Number of Credit Problems , int64 , False\n",
      "Current Credit Balance , int64 , False\n",
      "Maximum Open Credit , int64 , False\n",
      "Bankruptcies , float64 , True\n",
      "Tax Liens , float64 , True\n"
     ]
    }
   ],
   "source": [
    "#Loading CSV file\n",
    "\n",
    "#Import Python Libraries\n",
    "import numpy as np\n",
    "import pandas as pd\n",
    "from IPython.display import display, HTML\n",
    "\n",
    "df_20K=pd.read_csv('Loans_20K.CSV', header=0)\n",
    "df_200K=pd.read_csv('Data_Loans_200K.CSV', header=0)"
   ]
  },
  {
   "cell_type": "code",
   "execution_count": 5,
   "id": "3f628ae2",
   "metadata": {},
   "outputs": [
    {
     "name": "stdout",
     "output_type": "stream",
     "text": [
      "Unnamed: 0 , int64 , False\n",
      "Loan Status , object , False\n",
      "Current Loan Amount , int64 , False\n",
      "Term , object , False\n",
      "Credit Score , float64 , True\n",
      "Annual Income , float64 , True\n",
      "Years in current job , object , True\n",
      "Home Ownership , object , False\n",
      "Purpose , object , False\n",
      "Monthly Debt , float64 , False\n",
      "Years of Credit History , float64 , False\n",
      "Months since last delinquent , float64 , True\n",
      "Number of Open Accounts , int64 , False\n",
      "Number of Credit Problems , int64 , False\n",
      "Current Credit Balance , int64 , False\n",
      "Maximum Open Credit , float64 , True\n",
      "Bankruptcies , float64 , True\n",
      "Tax Liens , float64 , True\n"
     ]
    }
   ],
   "source": [
    "#Checking for missing values\n",
    "cols_20K=df_20K.columns\n",
    "for i in cols_20K:\n",
    "    print(i, ',', df_20K[i].dtype,',',df_20K[i].isnull().any())"
   ]
  },
  {
   "cell_type": "code",
   "execution_count": 6,
   "id": "427c2bbd",
   "metadata": {},
   "outputs": [
    {
     "name": "stdout",
     "output_type": "stream",
     "text": [
      "Unnamed: 0 , int64 , False\n",
      "Loan Status , object , False\n",
      "Current Loan Amount , int64 , False\n",
      "Term , object , False\n",
      "Credit Score , float64 , True\n",
      "Annual Income , float64 , True\n",
      "Years in current job , object , True\n",
      "Home Ownership , object , False\n",
      "Purpose , object , False\n",
      "Monthly Debt , float64 , False\n",
      "Years of Credit History , float64 , False\n",
      "Months since last delinquent , float64 , True\n",
      "Number of Open Accounts , int64 , False\n",
      "Number of Credit Problems , int64 , False\n",
      "Current Credit Balance , int64 , False\n",
      "Maximum Open Credit , float64 , True\n",
      "Bankruptcies , float64 , True\n",
      "Tax Liens , float64 , True\n"
     ]
    }
   ],
   "source": [
    "#Checking for missing values\n",
    "cols_200K=df_200K.columns\n",
    "for i in cols_200K:\n",
    "    print(i, ',', df_200K[i].dtype,',',df_200K[i].isnull().any())"
   ]
  },
  {
   "cell_type": "code",
   "execution_count": null,
   "id": "3229f2bb",
   "metadata": {},
   "outputs": [],
   "source": [
    "# replace missing values in numerical variables by using mean value #################################\n",
    "df_20K[\"Credit Score\"].fillna(df1[\"Credit Score\"].mean(), inplace=True)\n",
    "df_20K[\"Annual Income\"].fillna(df1[\"Annual Income\"].mean(), inplace=True)\n",
    "df_20K[\"Years in current job\"].fillna(df1[\"Years in current job\"].mode().iloc[0], inplace=True)\n",
    "df_20K[\"Months since last delinquent\"].fillna(df1[\"Months since last delinquent\"].mean(), inplace=True)\n",
    "df_20K[\"Bankruptcies\"].fillna(df1[\"Bankruptcies\"].mean(), inplace=True)\n",
    "df_20K[\"Tax Liens\"].fillna(df1[\"Tax Liens\"].mean(), inplace=True)"
   ]
  }
 ],
 "metadata": {
  "kernelspec": {
   "display_name": "Python 3 (ipykernel)",
   "language": "python",
   "name": "python3"
  },
  "language_info": {
   "codemirror_mode": {
    "name": "ipython",
    "version": 3
   },
   "file_extension": ".py",
   "mimetype": "text/x-python",
   "name": "python",
   "nbconvert_exporter": "python",
   "pygments_lexer": "ipython3",
   "version": "3.8.12"
  }
 },
 "nbformat": 4,
 "nbformat_minor": 5
}
